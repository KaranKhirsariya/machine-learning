{
  "nbformat": 4,
  "nbformat_minor": 0,
  "metadata": {
    "colab": {
      "name": "CV - Analytics Vidhya - Face Counting challenge.ipynb",
      "version": "0.3.2",
      "provenance": [],
      "collapsed_sections": [],
      "toc_visible": true,
      "include_colab_link": true
    },
    "kernelspec": {
      "name": "python3",
      "display_name": "Python 3"
    },
    "accelerator": "TPU"
  },
  "cells": [
    {
      "cell_type": "markdown",
      "metadata": {
        "id": "view-in-github",
        "colab_type": "text"
      },
      "source": [
        "<a href=\"https://colab.research.google.com/github/KaranKhirsariya/machine-learning/blob/master/CV_Analytics_Vidhya_Face_Counting_challenge.ipynb\" target=\"_parent\"><img src=\"https://colab.research.google.com/assets/colab-badge.svg\" alt=\"Open In Colab\"/></a>"
      ]
    },
    {
      "metadata": {
        "id": "IWa-4Du3TXcq",
        "colab_type": "text"
      },
      "cell_type": "markdown",
      "source": [
        "# Computer Vision - Face Counting Challenge\n",
        "### Analytics Vidhya practice problem\n",
        "---"
      ]
    },
    {
      "metadata": {
        "id": "lAldMxnWTq5Y",
        "colab_type": "text"
      },
      "cell_type": "markdown",
      "source": [
        "### Problem Statement\n",
        "\n",
        "People detection and head counting is one of the classical albeit challenging computer vision application. For this problem, given a group selfie/photo, you are required to count the number of heads present in the picture. You are provided with a training set of images with coordinates of bounding box and head count for each image and need to predict the headcount for each image in the test set.\n",
        "\n",
        "### Evaluation Metric\n",
        "\n",
        "The evaluation metric for this competition is RMSE (root mean squared error) over the head counts predicted for test images.\n",
        "\n",
        "### Public and Private Split\n",
        "\n",
        "Note that the test data is further randomly divided into Public (30%) and Private (70%) data. Your initial responses will be checked and scored on the Public data. The final rankings would be based on your private score which will be published once the competition is over."
      ]
    },
    {
      "metadata": {
        "id": "PzpZWCN3Uepy",
        "colab_type": "text"
      },
      "cell_type": "markdown",
      "source": [
        "**Data**    \n",
        "\n",
        "1. **train.zip** - Contains 2 csvs and 1 folder containing image data\n",
        "  1. train.csv - ['Name', 'HeadCount'] (contains headcount value for each training image)\n",
        "  2. bbox_train.csv - ['Name', 'width', 'height' , 'xmin', 'ymin', 'xmax', 'ymax', 'class'] (contains co-ordinates of each head in the train image, located by the formation of a bound-box around the head)\n",
        "2. **test.csv** - ['Name'] (contains only name of testing images)\n",
        "3. **sample_submission.csv** - ['Name', 'HeadCount'] (contains format for a valid submission)\n",
        "---\n",
        "\n"
      ]
    },
    {
      "metadata": {
        "id": "WTfxQdDKWUGX",
        "colab_type": "text"
      },
      "cell_type": "markdown",
      "source": [
        "**Solution**"
      ]
    },
    {
      "metadata": {
        "id": "tpQuTcpeYVN5",
        "colab_type": "text"
      },
      "cell_type": "markdown",
      "source": [
        "### Download training data"
      ]
    },
    {
      "metadata": {
        "id": "ki13BB_sYysb",
        "colab_type": "code",
        "colab": {}
      },
      "cell_type": "code",
      "source": [
        "from google.colab import auth\n",
        "auth.authenticate_user()"
      ],
      "execution_count": 0,
      "outputs": []
    },
    {
      "metadata": {
        "id": "SswPKTubY0mK",
        "colab_type": "code",
        "colab": {}
      },
      "cell_type": "code",
      "source": [
        "from googleapiclient.discovery import build\n",
        "drive_service = build('drive', 'v3')"
      ],
      "execution_count": 0,
      "outputs": []
    },
    {
      "metadata": {
        "id": "Bbv0qG2wMI9L",
        "colab_type": "code",
        "colab": {}
      },
      "cell_type": "code",
      "source": [
        "file_id = '1_WqUew2CdIfAY2oPh7kOZqgtXDtLa6CN'\n",
        "\n",
        "import io\n",
        "from googleapiclient.http import MediaIoBaseDownload\n",
        "\n",
        "request = drive_service.files().get_media(fileId=file_id)\n",
        "downloaded = io.BytesIO()\n",
        "downloader = MediaIoBaseDownload(downloaded, request)\n",
        "done = False\n",
        "while done is False:\n",
        "  # _ is a placeholder for a progress object that we ignore.\n",
        "  # (Our file is small, so we skip reporting progress.)\n",
        "  _, done = downloader.next_chunk()\n",
        "\n",
        "downloaded.seek(0)\n",
        "print('Downloaded file contents are: {}'.format(downloaded.read()))"
      ],
      "execution_count": 0,
      "outputs": []
    },
    {
      "metadata": {
        "id": "bMOR_vLzYnFE",
        "colab_type": "code",
        "colab": {}
      },
      "cell_type": "code",
      "source": [
        ""
      ],
      "execution_count": 0,
      "outputs": []
    }
  ]
}